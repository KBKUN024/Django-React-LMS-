{
 "cells": [
  {
   "cell_type": "code",
   "execution_count": 18,
   "id": "a6854499",
   "metadata": {},
   "outputs": [
    {
     "data": {
      "text/html": [
       "<pre style=\"white-space:pre;overflow-x:auto;line-height:normal;font-family:Menlo,'DejaVu Sans Mono',consolas,'Courier New',monospace\"><span style=\"font-weight: bold\">{</span>\n",
       "    <span style=\"color: #008000; text-decoration-color: #008000\">'variant_title'</span>: <span style=\"color: #008000; text-decoration-color: #008000\">'第一章'</span>,\n",
       "    <span style=\"color: #008000; text-decoration-color: #008000\">'variant_id'</span>: <span style=\"color: #008000; text-decoration-color: #008000\">'43'</span>,\n",
       "    <span style=\"color: #008000; text-decoration-color: #008000\">'items'</span>: <span style=\"font-weight: bold\">[</span>\n",
       "        <span style=\"font-weight: bold\">{</span><span style=\"color: #008000; text-decoration-color: #008000\">'title'</span>: <span style=\"color: #008000; text-decoration-color: #008000\">'1课'</span>, <span style=\"color: #008000; text-decoration-color: #008000\">'description'</span>: <span style=\"color: #008000; text-decoration-color: #008000\">''</span>, <span style=\"color: #008000; text-decoration-color: #008000\">'file'</span>: <span style=\"color: #008000; text-decoration-color: #008000\">''</span>, <span style=\"color: #008000; text-decoration-color: #008000\">'preview'</span>: <span style=\"color: #008000; text-decoration-color: #008000\">'false'</span>, <span style=\"color: #008000; text-decoration-color: #008000\">'variant_item_id'</span>: <span style=\"color: #008000; text-decoration-color: #008000\">'7714768949'</span><span style=\"font-weight: bold\">}</span>,\n",
       "        <span style=\"font-weight: bold\">{</span><span style=\"color: #008000; text-decoration-color: #008000\">'title'</span>: <span style=\"color: #008000; text-decoration-color: #008000\">'2课'</span>, <span style=\"color: #008000; text-decoration-color: #008000\">'description'</span>: <span style=\"color: #008000; text-decoration-color: #008000\">''</span>, <span style=\"color: #008000; text-decoration-color: #008000\">'file'</span>: <span style=\"color: #008000; text-decoration-color: #008000\">''</span>, <span style=\"color: #008000; text-decoration-color: #008000\">'preview'</span>: <span style=\"color: #008000; text-decoration-color: #008000\">'false'</span>, <span style=\"color: #008000; text-decoration-color: #008000\">'variant_item_id'</span>: <span style=\"color: #008000; text-decoration-color: #008000\">'8359334643'</span><span style=\"font-weight: bold\">}</span>\n",
       "    <span style=\"font-weight: bold\">]</span>\n",
       "<span style=\"font-weight: bold\">}</span>\n",
       "</pre>\n"
      ],
      "text/plain": [
       "\u001b[1m{\u001b[0m\n",
       "    \u001b[32m'variant_title'\u001b[0m: \u001b[32m'第一章'\u001b[0m,\n",
       "    \u001b[32m'variant_id'\u001b[0m: \u001b[32m'43'\u001b[0m,\n",
       "    \u001b[32m'items'\u001b[0m: \u001b[1m[\u001b[0m\n",
       "        \u001b[1m{\u001b[0m\u001b[32m'title'\u001b[0m: \u001b[32m'1课'\u001b[0m, \u001b[32m'description'\u001b[0m: \u001b[32m''\u001b[0m, \u001b[32m'file'\u001b[0m: \u001b[32m''\u001b[0m, \u001b[32m'preview'\u001b[0m: \u001b[32m'false'\u001b[0m, \u001b[32m'variant_item_id'\u001b[0m: \u001b[32m'7714768949'\u001b[0m\u001b[1m}\u001b[0m,\n",
       "        \u001b[1m{\u001b[0m\u001b[32m'title'\u001b[0m: \u001b[32m'2课'\u001b[0m, \u001b[32m'description'\u001b[0m: \u001b[32m''\u001b[0m, \u001b[32m'file'\u001b[0m: \u001b[32m''\u001b[0m, \u001b[32m'preview'\u001b[0m: \u001b[32m'false'\u001b[0m, \u001b[32m'variant_item_id'\u001b[0m: \u001b[32m'8359334643'\u001b[0m\u001b[1m}\u001b[0m\n",
       "    \u001b[1m]\u001b[0m\n",
       "\u001b[1m}\u001b[0m\n"
      ]
     },
     "metadata": {},
     "output_type": "display_data"
    },
    {
     "data": {
      "text/html": [
       "<pre style=\"white-space:pre;overflow-x:auto;line-height:normal;font-family:Menlo,'DejaVu Sans Mono',consolas,'Courier New',monospace\"><span style=\"font-weight: bold\">{</span>\n",
       "    <span style=\"color: #008000; text-decoration-color: #008000\">'variant_title'</span>: <span style=\"color: #008000; text-decoration-color: #008000\">'第二章'</span>,\n",
       "    <span style=\"color: #008000; text-decoration-color: #008000\">'variant_id'</span>: <span style=\"color: #008000; text-decoration-color: #008000\">'44'</span>,\n",
       "    <span style=\"color: #008000; text-decoration-color: #008000\">'items'</span>: <span style=\"font-weight: bold\">[</span>\n",
       "        <span style=\"font-weight: bold\">{</span><span style=\"color: #008000; text-decoration-color: #008000\">'title'</span>: <span style=\"color: #008000; text-decoration-color: #008000\">'2章1课'</span>, <span style=\"color: #008000; text-decoration-color: #008000\">'description'</span>: <span style=\"color: #008000; text-decoration-color: #008000\">''</span>, <span style=\"color: #008000; text-decoration-color: #008000\">'file'</span>: <span style=\"color: #008000; text-decoration-color: #008000\">''</span>, <span style=\"color: #008000; text-decoration-color: #008000\">'preview'</span>: <span style=\"color: #008000; text-decoration-color: #008000\">'false'</span>, <span style=\"color: #008000; text-decoration-color: #008000\">'variant_item_id'</span>: <span style=\"color: #008000; text-decoration-color: #008000\">'1111811272'</span><span style=\"font-weight: bold\">}</span>\n",
       "    <span style=\"font-weight: bold\">]</span>\n",
       "<span style=\"font-weight: bold\">}</span>\n",
       "</pre>\n"
      ],
      "text/plain": [
       "\u001b[1m{\u001b[0m\n",
       "    \u001b[32m'variant_title'\u001b[0m: \u001b[32m'第二章'\u001b[0m,\n",
       "    \u001b[32m'variant_id'\u001b[0m: \u001b[32m'44'\u001b[0m,\n",
       "    \u001b[32m'items'\u001b[0m: \u001b[1m[\u001b[0m\n",
       "        \u001b[1m{\u001b[0m\u001b[32m'title'\u001b[0m: \u001b[32m'2章1课'\u001b[0m, \u001b[32m'description'\u001b[0m: \u001b[32m''\u001b[0m, \u001b[32m'file'\u001b[0m: \u001b[32m''\u001b[0m, \u001b[32m'preview'\u001b[0m: \u001b[32m'false'\u001b[0m, \u001b[32m'variant_item_id'\u001b[0m: \u001b[32m'1111811272'\u001b[0m\u001b[1m}\u001b[0m\n",
       "    \u001b[1m]\u001b[0m\n",
       "\u001b[1m}\u001b[0m\n"
      ]
     },
     "metadata": {},
     "output_type": "display_data"
    }
   ],
   "source": [
    "from rich.console import Console\n",
    "\n",
    "console = Console()\n",
    "data = [\n",
    "    {\n",
    "        \"variant_title\": \"第一章\",\n",
    "        \"variant_id\": \"43\",\n",
    "        \"items\": [\n",
    "            {\n",
    "                \"title\": \"1课\",\n",
    "                \"description\": \"\",\n",
    "                \"file\": \"\",\n",
    "                \"preview\": \"false\",\n",
    "                \"variant_item_id\": \"7714768949\",\n",
    "            },\n",
    "            {\n",
    "                \"title\": \"2课\",\n",
    "                \"description\": \"\",\n",
    "                \"file\": \"\",\n",
    "                \"preview\": \"false\",\n",
    "                \"variant_item_id\": \"8359334643\",\n",
    "            },\n",
    "        ],\n",
    "    },\n",
    "    {\n",
    "        \"variant_title\": \"第二章\",\n",
    "        \"variant_id\": \"44\",\n",
    "        \"items\": [\n",
    "            {\n",
    "                \"title\": \"2章1课\",\n",
    "                \"description\": \"\",\n",
    "                \"file\": \"\",\n",
    "                \"preview\": \"false\",\n",
    "                \"variant_item_id\": \"1111811272\",\n",
    "            }\n",
    "        ],\n",
    "    },\n",
    "]\n",
    "\n",
    "\n",
    "for v in data:\n",
    "    console.print(v)"
   ]
  }
 ],
 "metadata": {
  "kernelspec": {
   "display_name": "python-learning-process-record",
   "language": "python",
   "name": "python3"
  },
  "language_info": {
   "codemirror_mode": {
    "name": "ipython",
    "version": 3
   },
   "file_extension": ".py",
   "mimetype": "text/x-python",
   "name": "python",
   "nbconvert_exporter": "python",
   "pygments_lexer": "ipython3",
   "version": "3.12.11"
  }
 },
 "nbformat": 4,
 "nbformat_minor": 5
}
